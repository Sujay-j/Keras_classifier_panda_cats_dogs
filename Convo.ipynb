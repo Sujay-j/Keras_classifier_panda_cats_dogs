{
 "cells": [
  {
   "cell_type": "code",
   "execution_count": 3,
   "metadata": {},
   "outputs": [],
   "source": [
    "from tensorflow.keras.models import Sequential\n",
    "from tensorflow.keras.layers import BatchNormalization,Conv2D,MaxPooling2D,Activation,Flatten,Dropout,Dense\n",
    "from tensorflow.keras import backend as k"
   ]
  },
  {
   "cell_type": "code",
   "execution_count": 28,
   "metadata": {},
   "outputs": [],
   "source": [
    "class smallVGGNet:\n",
    "    @staticmethod\n",
    "    def build(width,height,depth,classes):\n",
    "        model = Sequential()\n",
    "        inputShape = (height,width,depth)\n",
    "        chanDim = -1\n",
    "        #if k.image_data_format()==\"channels_first\":\n",
    "        #    inputShape=(depth,height,width)\n",
    "        #    chanDim=1\n",
    "        model.add(Conv2D(32,(3,3),padding=\"same\",input_shape=inputShape))\n",
    "        model.add(Activation(\"relu\"))\n",
    "        model.add(BatchNormalization(axis=chanDim))\n",
    "        model.add(MaxPooling2D(pool_size=(2,2)))\n",
    "        model.add(Dropout(0.25))\n",
    "        model.add(Conv2D(64,(3,3),padding = \"same\"))\n",
    "        model.add(Activation(\"relu\"))\n",
    "        model.add(BatchNormalization(axis=chanDim))\n",
    "        model.add(Conv2D(64,(3,3),padding=\"same\"))\n",
    "        model.add(Activation(\"relu\"))\n",
    "        model.add(BatchNormalization(axis=chanDim))\n",
    "        model.add(MaxPooling2D(pool_size=(2,2)))\n",
    "        model.add(Dropout(0.25))\n",
    "        model.add(Conv2D(128, (3, 3), padding=\"same\"))\n",
    "        model.add(Activation(\"relu\"))\n",
    "        model.add(BatchNormalization(axis=chanDim))\n",
    "        model.add(Conv2D(128, (3, 3), padding=\"same\"))\n",
    "        model.add(Activation(\"relu\"))\n",
    "        model.add(BatchNormalization(axis=chanDim))\n",
    "        model.add(Conv2D(128, (3, 3), padding=\"same\"))\n",
    "        model.add(Activation(\"relu\"))\n",
    "        model.add(BatchNormalization(axis=chanDim))\n",
    "        model.add(MaxPooling2D(pool_size=(2, 2)))\n",
    "        model.add(Dropout(0.25))\n",
    "        model.add(Flatten())\n",
    "        model.add(Dense(512))\n",
    "        model.add(Activation(\"relu\"))\n",
    "        model.add(BatchNormalization())\n",
    "        model.add(Dropout(0.5))\n",
    "        model.add(Dense(classes))\n",
    "        model.add(Activation(\"softmax\"))\n",
    "        return model\n",
    "        "
   ]
  },
  {
   "cell_type": "code",
   "execution_count": 5,
   "metadata": {},
   "outputs": [
    {
     "name": "stderr",
     "output_type": "stream",
     "text": [
      "C:\\Users\\Sujay J\\Anaconda3\\lib\\importlib\\_bootstrap.py:219: RuntimeWarning: numpy.ufunc size changed, may indicate binary incompatibility. Expected 192 from C header, got 216 from PyObject\n",
      "  return f(*args, **kwds)\n",
      "C:\\Users\\Sujay J\\Anaconda3\\lib\\importlib\\_bootstrap.py:219: RuntimeWarning: numpy.ufunc size changed, may indicate binary incompatibility. Expected 192 from C header, got 216 from PyObject\n",
      "  return f(*args, **kwds)\n",
      "C:\\Users\\Sujay J\\Anaconda3\\lib\\importlib\\_bootstrap.py:219: RuntimeWarning: numpy.ufunc size changed, may indicate binary incompatibility. Expected 192 from C header, got 216 from PyObject\n",
      "  return f(*args, **kwds)\n",
      "C:\\Users\\Sujay J\\Anaconda3\\lib\\importlib\\_bootstrap.py:219: RuntimeWarning: numpy.ufunc size changed, may indicate binary incompatibility. Expected 192 from C header, got 216 from PyObject\n",
      "  return f(*args, **kwds)\n"
     ]
    }
   ],
   "source": [
    "from sklearn.preprocessing import LabelBinarizer\n",
    "from sklearn.model_selection import train_test_split\n",
    "from sklearn.metrics import classification_report\n",
    "from tensorflow.keras.preprocessing.image import ImageDataGenerator\n",
    "from tensorflow.keras.optimizers import SGD\n",
    "from imutils import paths\n",
    "import matplotlib.pyplot as plt\n",
    "import numpy as np\n",
    "import argparse\n",
    "import random\n",
    "import pickle\n",
    "import cv2\n",
    "import os"
   ]
  },
  {
   "cell_type": "code",
   "execution_count": 34,
   "metadata": {},
   "outputs": [
    {
     "data": {
      "text/plain": [
       "'C:\\\\Users\\\\Sujay J\\\\Desktop\\\\PYImage\\\\my exersize\\\\Untitled Folder\\\\animals'"
      ]
     },
     "execution_count": 34,
     "metadata": {},
     "output_type": "execute_result"
    }
   ],
   "source": [
    "base_dir=os.path.dirname(os.path.abspath(\"keras_tut\"))\n",
    "dataset = os.path.join(base_dir,\"animals\")\n",
    "dataset\n"
   ]
  },
  {
   "cell_type": "code",
   "execution_count": 35,
   "metadata": {},
   "outputs": [
    {
     "data": {
      "text/plain": [
       "'C:\\\\Users\\\\Sujay J\\\\Desktop\\\\PYImage\\\\my exersize\\\\Untitled Folder\\\\animals'"
      ]
     },
     "execution_count": 35,
     "metadata": {},
     "output_type": "execute_result"
    }
   ],
   "source": [
    "basse = os.getcwd()\n",
    "dataa = os.path.join(basse,\"animals\")\n",
    "dataa"
   ]
  },
  {
   "cell_type": "code",
   "execution_count": 77,
   "metadata": {},
   "outputs": [],
   "source": [
    "MMModel = os.path.dirname(os.path.abspath(\"output/smallvggnet.model\"))\n",
    "LLb = os.path.dirname(os.path.abspath(\"output/smallvggnet_lb.pickle\"))"
   ]
  },
  {
   "cell_type": "code",
   "execution_count": 37,
   "metadata": {},
   "outputs": [],
   "source": [
    "data = []\n",
    "labels = []"
   ]
  },
  {
   "cell_type": "code",
   "execution_count": 38,
   "metadata": {},
   "outputs": [],
   "source": [
    "data=[]\n",
    "labels=[]\n",
    "imagesPaths = sorted(list(paths.list_images(dataa)))\n",
    "random.seed(42)\n",
    "random.shuffle(imagesPaths)\n",
    "for imagePath in imagesPaths:\n",
    "    image  = cv2.imread(imagePath)\n",
    "    image = cv2.resize(image,(64,64))\n",
    "    data.append(image)\n",
    "    label = imagePath.split(os.path.sep)[-2]\n",
    "    labels.append(label)\n",
    "data = np.array(data,dtype=\"float\")/255.0\n",
    "labels = np.array(labels)"
   ]
  },
  {
   "cell_type": "code",
   "execution_count": 39,
   "metadata": {},
   "outputs": [],
   "source": [
    "(trainX,testX,trainY,testY)=train_test_split(data,labels,test_size=0.25,random_state=42)"
   ]
  },
  {
   "cell_type": "code",
   "execution_count": 40,
   "metadata": {},
   "outputs": [],
   "source": [
    "lb=LabelBinarizer()\n",
    "trainY=lb.fit_transform(trainY)\n",
    "testY = lb.fit_transform(testY)"
   ]
  },
  {
   "cell_type": "code",
   "execution_count": 41,
   "metadata": {},
   "outputs": [],
   "source": [
    "aug = ImageDataGenerator(rotation_range=30,width_shift_range=0.1,height_shift_range=0.1,\n",
    "                        shear_range=0.2,zoom_range=0.2,horizontal_flip=True,fill_mode=\"nearest\")\n"
   ]
  },
  {
   "cell_type": "code",
   "execution_count": 42,
   "metadata": {},
   "outputs": [],
   "source": [
    "model = smallVGGNet.build(width=64,height=64,depth = 3,classes = len(lb.classes_))"
   ]
  },
  {
   "cell_type": "code",
   "execution_count": 43,
   "metadata": {},
   "outputs": [
    {
     "name": "stdout",
     "output_type": "stream",
     "text": [
      "Model: \"sequential_2\"\n",
      "_________________________________________________________________\n",
      "Layer (type)                 Output Shape              Param #   \n",
      "=================================================================\n",
      "conv2d_12 (Conv2D)           (None, 64, 64, 32)        896       \n",
      "_________________________________________________________________\n",
      "activation_16 (Activation)   (None, 64, 64, 32)        0         \n",
      "_________________________________________________________________\n",
      "batch_normalization_14 (Batc (None, 64, 64, 32)        128       \n",
      "_________________________________________________________________\n",
      "max_pooling2d_6 (MaxPooling2 (None, 32, 32, 32)        0         \n",
      "_________________________________________________________________\n",
      "dropout_8 (Dropout)          (None, 32, 32, 32)        0         \n",
      "_________________________________________________________________\n",
      "conv2d_13 (Conv2D)           (None, 32, 32, 64)        18496     \n",
      "_________________________________________________________________\n",
      "activation_17 (Activation)   (None, 32, 32, 64)        0         \n",
      "_________________________________________________________________\n",
      "batch_normalization_15 (Batc (None, 32, 32, 64)        256       \n",
      "_________________________________________________________________\n",
      "conv2d_14 (Conv2D)           (None, 32, 32, 64)        36928     \n",
      "_________________________________________________________________\n",
      "activation_18 (Activation)   (None, 32, 32, 64)        0         \n",
      "_________________________________________________________________\n",
      "batch_normalization_16 (Batc (None, 32, 32, 64)        256       \n",
      "_________________________________________________________________\n",
      "max_pooling2d_7 (MaxPooling2 (None, 16, 16, 64)        0         \n",
      "_________________________________________________________________\n",
      "dropout_9 (Dropout)          (None, 16, 16, 64)        0         \n",
      "_________________________________________________________________\n",
      "conv2d_15 (Conv2D)           (None, 16, 16, 128)       73856     \n",
      "_________________________________________________________________\n",
      "activation_19 (Activation)   (None, 16, 16, 128)       0         \n",
      "_________________________________________________________________\n",
      "batch_normalization_17 (Batc (None, 16, 16, 128)       512       \n",
      "_________________________________________________________________\n",
      "conv2d_16 (Conv2D)           (None, 16, 16, 128)       147584    \n",
      "_________________________________________________________________\n",
      "activation_20 (Activation)   (None, 16, 16, 128)       0         \n",
      "_________________________________________________________________\n",
      "batch_normalization_18 (Batc (None, 16, 16, 128)       512       \n",
      "_________________________________________________________________\n",
      "conv2d_17 (Conv2D)           (None, 16, 16, 128)       147584    \n",
      "_________________________________________________________________\n",
      "activation_21 (Activation)   (None, 16, 16, 128)       0         \n",
      "_________________________________________________________________\n",
      "batch_normalization_19 (Batc (None, 16, 16, 128)       512       \n",
      "_________________________________________________________________\n",
      "max_pooling2d_8 (MaxPooling2 (None, 8, 8, 128)         0         \n",
      "_________________________________________________________________\n",
      "dropout_10 (Dropout)         (None, 8, 8, 128)         0         \n",
      "_________________________________________________________________\n",
      "flatten_2 (Flatten)          (None, 8192)              0         \n",
      "_________________________________________________________________\n",
      "dense_4 (Dense)              (None, 512)               4194816   \n",
      "_________________________________________________________________\n",
      "activation_22 (Activation)   (None, 512)               0         \n",
      "_________________________________________________________________\n",
      "batch_normalization_20 (Batc (None, 512)               2048      \n",
      "_________________________________________________________________\n",
      "dropout_11 (Dropout)         (None, 512)               0         \n",
      "_________________________________________________________________\n",
      "dense_5 (Dense)              (None, 3)                 1539      \n",
      "_________________________________________________________________\n",
      "activation_23 (Activation)   (None, 3)                 0         \n",
      "=================================================================\n",
      "Total params: 4,625,923\n",
      "Trainable params: 4,623,811\n",
      "Non-trainable params: 2,112\n",
      "_________________________________________________________________\n"
     ]
    }
   ],
   "source": [
    "model.summary()"
   ]
  },
  {
   "cell_type": "code",
   "execution_count": 44,
   "metadata": {},
   "outputs": [],
   "source": [
    "\n",
    "EPOCHS = 75\n",
    "BS = 32\n",
    "opt = SGD(lr=0.01,decay = 0.01/EPOCHS)"
   ]
  },
  {
   "cell_type": "code",
   "execution_count": 45,
   "metadata": {},
   "outputs": [],
   "source": [
    "model.compile(loss = \"categorical_crossentropy\",optimizer = opt,metrics=[\"accuracy\"])"
   ]
  },
  {
   "cell_type": "code",
   "execution_count": 46,
   "metadata": {},
   "outputs": [
    {
     "name": "stdout",
     "output_type": "stream",
     "text": [
      "Train for 70 steps, validate on 750 samples\n",
      "Epoch 1/75\n",
      "70/70 [==============================] - 36s 508ms/step - loss: 1.3190 - accuracy: 0.5280 - val_loss: 1.7709 - val_accuracy: 0.3173\n",
      "Epoch 2/75\n",
      "70/70 [==============================] - 36s 509ms/step - loss: 1.0468 - accuracy: 0.5866 - val_loss: 1.7534 - val_accuracy: 0.3293\n",
      "Epoch 3/75\n",
      "70/70 [==============================] - 36s 514ms/step - loss: 0.8964 - accuracy: 0.6190 - val_loss: 2.0986 - val_accuracy: 0.3173\n",
      "Epoch 4/75\n",
      "70/70 [==============================] - 36s 511ms/step - loss: 0.8286 - accuracy: 0.6181 - val_loss: 1.7320 - val_accuracy: 0.3520\n",
      "Epoch 5/75\n",
      "70/70 [==============================] - 36s 519ms/step - loss: 0.7845 - accuracy: 0.6231 - val_loss: 1.5411 - val_accuracy: 0.3587\n",
      "Epoch 6/75\n",
      "70/70 [==============================] - 36s 509ms/step - loss: 0.7302 - accuracy: 0.6569 - val_loss: 1.3323 - val_accuracy: 0.4253\n",
      "Epoch 7/75\n",
      "70/70 [==============================] - 36s 513ms/step - loss: 0.7378 - accuracy: 0.6456 - val_loss: 0.9208 - val_accuracy: 0.5507\n",
      "Epoch 8/75\n",
      "70/70 [==============================] - 39s 559ms/step - loss: 0.6869 - accuracy: 0.6605 - val_loss: 0.8607 - val_accuracy: 0.6040\n",
      "Epoch 9/75\n",
      "70/70 [==============================] - 36s 511ms/step - loss: 0.6817 - accuracy: 0.6709 - val_loss: 0.6557 - val_accuracy: 0.6787\n",
      "Epoch 10/75\n",
      "70/70 [==============================] - 36s 513ms/step - loss: 0.6655 - accuracy: 0.6758 - val_loss: 0.6571 - val_accuracy: 0.6827\n",
      "Epoch 11/75\n",
      "70/70 [==============================] - 36s 513ms/step - loss: 0.6578 - accuracy: 0.6830 - val_loss: 0.7023 - val_accuracy: 0.6720\n",
      "Epoch 12/75\n",
      "70/70 [==============================] - 36s 513ms/step - loss: 0.6422 - accuracy: 0.6934 - val_loss: 0.6527 - val_accuracy: 0.6973\n",
      "Epoch 13/75\n",
      "70/70 [==============================] - 36s 511ms/step - loss: 0.6504 - accuracy: 0.6821 - val_loss: 0.6607 - val_accuracy: 0.6893\n",
      "Epoch 14/75\n",
      "70/70 [==============================] - 36s 510ms/step - loss: 0.6176 - accuracy: 0.7146 - val_loss: 0.6485 - val_accuracy: 0.7240\n",
      "Epoch 15/75\n",
      "70/70 [==============================] - 36s 514ms/step - loss: 0.6289 - accuracy: 0.7056 - val_loss: 0.6259 - val_accuracy: 0.7293\n",
      "Epoch 16/75\n",
      "70/70 [==============================] - 36s 512ms/step - loss: 0.6201 - accuracy: 0.7042 - val_loss: 0.6342 - val_accuracy: 0.7067\n",
      "Epoch 17/75\n",
      "70/70 [==============================] - 36s 514ms/step - loss: 0.6112 - accuracy: 0.7146 - val_loss: 0.6537 - val_accuracy: 0.7227\n",
      "Epoch 18/75\n",
      "70/70 [==============================] - 36s 512ms/step - loss: 0.6223 - accuracy: 0.7101 - val_loss: 0.8674 - val_accuracy: 0.6280\n",
      "Epoch 19/75\n",
      "70/70 [==============================] - 36s 513ms/step - loss: 0.5859 - accuracy: 0.7214 - val_loss: 0.6560 - val_accuracy: 0.7053\n",
      "Epoch 20/75\n",
      "70/70 [==============================] - 36s 511ms/step - loss: 0.5889 - accuracy: 0.7209 - val_loss: 0.6349 - val_accuracy: 0.7107\n",
      "Epoch 21/75\n",
      "70/70 [==============================] - 36s 510ms/step - loss: 0.5792 - accuracy: 0.7286 - val_loss: 0.6758 - val_accuracy: 0.6973\n",
      "Epoch 22/75\n",
      "70/70 [==============================] - 36s 511ms/step - loss: 0.5828 - accuracy: 0.7236 - val_loss: 0.6024 - val_accuracy: 0.7013\n",
      "Epoch 23/75\n",
      "70/70 [==============================] - 36s 513ms/step - loss: 0.5726 - accuracy: 0.7322 - val_loss: 0.6463 - val_accuracy: 0.7067\n",
      "Epoch 24/75\n",
      "70/70 [==============================] - 36s 512ms/step - loss: 0.5670 - accuracy: 0.7426 - val_loss: 0.6076 - val_accuracy: 0.7360\n",
      "Epoch 25/75\n",
      "70/70 [==============================] - 36s 511ms/step - loss: 0.5559 - accuracy: 0.7403 - val_loss: 0.6514 - val_accuracy: 0.7227\n",
      "Epoch 26/75\n",
      "70/70 [==============================] - 36s 510ms/step - loss: 0.5618 - accuracy: 0.7236 - val_loss: 0.6351 - val_accuracy: 0.7240\n",
      "Epoch 27/75\n",
      "70/70 [==============================] - 36s 513ms/step - loss: 0.5707 - accuracy: 0.7349 - val_loss: 0.6441 - val_accuracy: 0.7120\n",
      "Epoch 28/75\n",
      "70/70 [==============================] - 36s 520ms/step - loss: 0.5582 - accuracy: 0.7412 - val_loss: 0.6505 - val_accuracy: 0.7293\n",
      "Epoch 29/75\n",
      "70/70 [==============================] - 37s 524ms/step - loss: 0.5514 - accuracy: 0.7475 - val_loss: 0.6245 - val_accuracy: 0.7160\n",
      "Epoch 30/75\n",
      "70/70 [==============================] - 36s 516ms/step - loss: 0.5389 - accuracy: 0.7430 - val_loss: 0.6677 - val_accuracy: 0.7320\n",
      "Epoch 31/75\n",
      "70/70 [==============================] - 36s 519ms/step - loss: 0.5470 - accuracy: 0.7435 - val_loss: 0.6489 - val_accuracy: 0.7320\n",
      "Epoch 32/75\n",
      "70/70 [==============================] - 36s 513ms/step - loss: 0.5300 - accuracy: 0.7399 - val_loss: 0.6339 - val_accuracy: 0.7227\n",
      "Epoch 33/75\n",
      "70/70 [==============================] - 36s 510ms/step - loss: 0.5459 - accuracy: 0.7484 - val_loss: 0.6451 - val_accuracy: 0.7213\n",
      "Epoch 34/75\n",
      "70/70 [==============================] - 37s 523ms/step - loss: 0.5254 - accuracy: 0.7480 - val_loss: 0.6434 - val_accuracy: 0.7200\n",
      "Epoch 35/75\n",
      "70/70 [==============================] - 37s 526ms/step - loss: 0.5152 - accuracy: 0.7529 - val_loss: 0.6539 - val_accuracy: 0.7280\n",
      "Epoch 36/75\n",
      "70/70 [==============================] - 37s 524ms/step - loss: 0.5184 - accuracy: 0.7701 - val_loss: 0.6149 - val_accuracy: 0.7293\n",
      "Epoch 37/75\n",
      "70/70 [==============================] - 50s 715ms/step - loss: 0.5217 - accuracy: 0.7565 - val_loss: 0.6481 - val_accuracy: 0.7133\n",
      "Epoch 38/75\n",
      "70/70 [==============================] - 57s 808ms/step - loss: 0.5155 - accuracy: 0.7665 - val_loss: 0.6099 - val_accuracy: 0.7267\n",
      "Epoch 39/75\n",
      "70/70 [==============================] - 58s 830ms/step - loss: 0.5091 - accuracy: 0.7755 - val_loss: 0.6444 - val_accuracy: 0.7147\n",
      "Epoch 40/75\n",
      "70/70 [==============================] - 56s 804ms/step - loss: 0.4995 - accuracy: 0.7705 - val_loss: 0.6858 - val_accuracy: 0.7173\n",
      "Epoch 41/75\n",
      "70/70 [==============================] - 57s 814ms/step - loss: 0.4941 - accuracy: 0.7804 - val_loss: 0.6700 - val_accuracy: 0.7320\n",
      "Epoch 42/75\n",
      "70/70 [==============================] - 59s 838ms/step - loss: 0.5006 - accuracy: 0.7588 - val_loss: 0.6134 - val_accuracy: 0.7440\n",
      "Epoch 43/75\n",
      "70/70 [==============================] - 58s 829ms/step - loss: 0.4947 - accuracy: 0.7777 - val_loss: 0.5913 - val_accuracy: 0.7440\n",
      "Epoch 44/75\n",
      "70/70 [==============================] - 58s 835ms/step - loss: 0.5089 - accuracy: 0.7732 - val_loss: 0.6418 - val_accuracy: 0.7440\n",
      "Epoch 45/75\n",
      "70/70 [==============================] - 57s 819ms/step - loss: 0.4768 - accuracy: 0.7845 - val_loss: 0.5996 - val_accuracy: 0.7507\n",
      "Epoch 46/75\n",
      "70/70 [==============================] - 58s 835ms/step - loss: 0.4787 - accuracy: 0.7967 - val_loss: 0.7453 - val_accuracy: 0.7240\n",
      "Epoch 47/75\n",
      "70/70 [==============================] - 58s 830ms/step - loss: 0.4773 - accuracy: 0.7719 - val_loss: 0.6598 - val_accuracy: 0.7453\n",
      "Epoch 48/75\n",
      "70/70 [==============================] - 59s 836ms/step - loss: 0.4738 - accuracy: 0.7795 - val_loss: 0.6844 - val_accuracy: 0.7280\n",
      "Epoch 49/75\n",
      "70/70 [==============================] - 58s 825ms/step - loss: 0.4780 - accuracy: 0.7840 - val_loss: 0.7836 - val_accuracy: 0.6773\n",
      "Epoch 50/75\n",
      "70/70 [==============================] - 57s 816ms/step - loss: 0.4701 - accuracy: 0.7845 - val_loss: 0.7350 - val_accuracy: 0.7107\n",
      "Epoch 51/75\n",
      "70/70 [==============================] - 57s 814ms/step - loss: 0.4661 - accuracy: 0.7827 - val_loss: 0.6140 - val_accuracy: 0.7573\n",
      "Epoch 52/75\n",
      "70/70 [==============================] - 56s 806ms/step - loss: 0.4736 - accuracy: 0.7854 - val_loss: 0.6442 - val_accuracy: 0.7400\n",
      "Epoch 53/75\n",
      "70/70 [==============================] - 57s 820ms/step - loss: 0.4592 - accuracy: 0.7849 - val_loss: 0.7376 - val_accuracy: 0.7360\n",
      "Epoch 54/75\n",
      "70/70 [==============================] - 58s 822ms/step - loss: 0.4584 - accuracy: 0.7904 - val_loss: 0.6646 - val_accuracy: 0.7387\n",
      "Epoch 55/75\n",
      "70/70 [==============================] - 59s 837ms/step - loss: 0.4637 - accuracy: 0.7922 - val_loss: 0.5957 - val_accuracy: 0.7547\n",
      "Epoch 56/75\n",
      "70/70 [==============================] - 58s 829ms/step - loss: 0.4690 - accuracy: 0.7922 - val_loss: 0.6734 - val_accuracy: 0.7360\n",
      "Epoch 57/75\n"
     ]
    },
    {
     "name": "stdout",
     "output_type": "stream",
     "text": [
      "70/70 [==============================] - 58s 830ms/step - loss: 0.4299 - accuracy: 0.7971 - val_loss: 0.6448 - val_accuracy: 0.7453\n",
      "Epoch 58/75\n",
      "70/70 [==============================] - 58s 831ms/step - loss: 0.4414 - accuracy: 0.8016 - val_loss: 0.6399 - val_accuracy: 0.7547\n",
      "Epoch 59/75\n",
      "70/70 [==============================] - 58s 831ms/step - loss: 0.4408 - accuracy: 0.8003 - val_loss: 0.7156 - val_accuracy: 0.7387\n",
      "Epoch 60/75\n",
      "70/70 [==============================] - 58s 835ms/step - loss: 0.4398 - accuracy: 0.8070 - val_loss: 0.6111 - val_accuracy: 0.7493\n",
      "Epoch 61/75\n",
      "70/70 [==============================] - 59s 836ms/step - loss: 0.4480 - accuracy: 0.7953 - val_loss: 0.6519 - val_accuracy: 0.7520\n",
      "Epoch 62/75\n",
      "70/70 [==============================] - 59s 837ms/step - loss: 0.4232 - accuracy: 0.8093 - val_loss: 0.6500 - val_accuracy: 0.7387\n",
      "Epoch 63/75\n",
      "70/70 [==============================] - 60s 853ms/step - loss: 0.4201 - accuracy: 0.8097 - val_loss: 0.6719 - val_accuracy: 0.7493\n",
      "Epoch 64/75\n",
      "70/70 [==============================] - 61s 865ms/step - loss: 0.4400 - accuracy: 0.8007 - val_loss: 0.6464 - val_accuracy: 0.7573\n",
      "Epoch 65/75\n",
      "70/70 [==============================] - 60s 857ms/step - loss: 0.4244 - accuracy: 0.8052 - val_loss: 0.6373 - val_accuracy: 0.7573\n",
      "Epoch 66/75\n",
      "70/70 [==============================] - 59s 850ms/step - loss: 0.4452 - accuracy: 0.7953 - val_loss: 0.5910 - val_accuracy: 0.7680\n",
      "Epoch 67/75\n",
      "70/70 [==============================] - 59s 849ms/step - loss: 0.4144 - accuracy: 0.8151 - val_loss: 0.7101 - val_accuracy: 0.7173\n",
      "Epoch 68/75\n",
      "70/70 [==============================] - 60s 851ms/step - loss: 0.4044 - accuracy: 0.8138 - val_loss: 0.6143 - val_accuracy: 0.7680\n",
      "Epoch 69/75\n",
      "70/70 [==============================] - 58s 832ms/step - loss: 0.4194 - accuracy: 0.8025 - val_loss: 0.5972 - val_accuracy: 0.7653\n",
      "Epoch 70/75\n",
      "70/70 [==============================] - 58s 830ms/step - loss: 0.4109 - accuracy: 0.8106 - val_loss: 0.6308 - val_accuracy: 0.7680\n",
      "Epoch 71/75\n",
      "70/70 [==============================] - 59s 837ms/step - loss: 0.4145 - accuracy: 0.8111 - val_loss: 0.6070 - val_accuracy: 0.7600\n",
      "Epoch 72/75\n",
      "70/70 [==============================] - 58s 826ms/step - loss: 0.4339 - accuracy: 0.8016 - val_loss: 0.6870 - val_accuracy: 0.7387\n",
      "Epoch 73/75\n",
      "70/70 [==============================] - 59s 845ms/step - loss: 0.4166 - accuracy: 0.8097 - val_loss: 0.6673 - val_accuracy: 0.7453\n",
      "Epoch 74/75\n",
      "70/70 [==============================] - 58s 831ms/step - loss: 0.3932 - accuracy: 0.8264 - val_loss: 1.1507 - val_accuracy: 0.6720\n",
      "Epoch 75/75\n",
      "70/70 [==============================] - 58s 835ms/step - loss: 0.4188 - accuracy: 0.8124 - val_loss: 0.6629 - val_accuracy: 0.7467\n"
     ]
    }
   ],
   "source": [
    "H = model.fit(x=aug.flow(trainX, trainY, batch_size=BS),\n",
    "validation_data=(testX, testY), steps_per_epoch=len(trainX) // BS,\n",
    "epochs=EPOCHS)"
   ]
  },
  {
   "cell_type": "code",
   "execution_count": 47,
   "metadata": {},
   "outputs": [
    {
     "name": "stdout",
     "output_type": "stream",
     "text": [
      "              precision    recall  f1-score   support\n",
      "\n",
      "        cats       0.62      0.82      0.71       236\n",
      "        dogs       0.69      0.53      0.59       236\n",
      "       panda       0.94      0.87      0.90       278\n",
      "\n",
      "    accuracy                           0.75       750\n",
      "   macro avg       0.75      0.74      0.74       750\n",
      "weighted avg       0.76      0.75      0.75       750\n",
      "\n"
     ]
    }
   ],
   "source": [
    "predictions= model.predict(x=testX,batch_size=32)\n",
    "print(classification_report(testY.argmax(axis =1),predictions.argmax(axis=1),target_names=lb.classes_))"
   ]
  },
  {
   "cell_type": "code",
   "execution_count": 49,
   "metadata": {},
   "outputs": [
    {
     "data": {
      "image/png": "[encoded data removed]",
      "text/plain": [
       "<Figure size 432x288 with 1 Axes>"
      ]
     },
     "metadata": {},
     "output_type": "display_data"
    }
   ],
   "source": [
    "N = np.arange(0, EPOCHS)\n",
    "plt.style.use(\"ggplot\")\n",
    "plt.figure()\n",
    "plt.plot(N, H.history[\"loss\"], label=\"train_loss\")\n",
    "plt.plot(N, H.history[\"val_loss\"], label=\"val_loss\")\n",
    "plt.plot(N, H.history[\"accuracy\"], label=\"train_acc\")\n",
    "plt.plot(N, H.history[\"val_accuracy\"], label=\"val_acc\")\n",
    "plt.title(\"Training Loss and Accuracy (SmallVGGNet)\")\n",
    "plt.xlabel(\"Epoch #\")\n",
    "plt.ylabel(\"Loss/Accuracy\")\n",
    "plt.legend()\n",
    "plt.savefig(\"Convo\")"
   ]
  },
  {
   "cell_type": "code",
   "execution_count": 78,
   "metadata": {},
   "outputs": [],
   "source": [
    "model.save(\"MMModel\",save_format=\"h5\")"
   ]
  },
  {
   "cell_type": "code",
   "execution_count": 79,
   "metadata": {},
   "outputs": [],
   "source": [
    "f = open(\"LLb\", \"wb\")\n",
    "f.write(pickle.dumps(lb))\n",
    "f.close()"
   ]
  },
  {
   "cell_type": "code",
   "execution_count": 71,
   "metadata": {},
   "outputs": [],
   "source": [
    "img= cv2.imread(\"cat.jpg\")\n",
    "output = img.copy()\n",
    "#img= cv2.resize(img,(64,64),3)"
   ]
  },
  {
   "cell_type": "code",
   "execution_count": 56,
   "metadata": {},
   "outputs": [],
   "source": [
    "from tensorflow.keras.models import load_model\n"
   ]
  },
  {
   "cell_type": "code",
   "execution_count": 58,
   "metadata": {},
   "outputs": [],
   "source": [
    "model1=load_model(\"MMModel\")"
   ]
  },
  {
   "cell_type": "code",
   "execution_count": 89,
   "metadata": {},
   "outputs": [],
   "source": [
    "image = cv2.imread(\"panda.jpg\")"
   ]
  },
  {
   "cell_type": "code",
   "execution_count": 90,
   "metadata": {},
   "outputs": [],
   "source": [
    "image=cv2.resize(image,(64,64))"
   ]
  },
  {
   "cell_type": "code",
   "execution_count": 91,
   "metadata": {},
   "outputs": [],
   "source": [
    "image = image.astype(\"float\") / 255.0"
   ]
  },
  {
   "cell_type": "code",
   "execution_count": 80,
   "metadata": {},
   "outputs": [],
   "source": [
    "model1=load_model(\"MMModel\")"
   ]
  },
  {
   "cell_type": "code",
   "execution_count": 92,
   "metadata": {},
   "outputs": [],
   "source": [
    "lllb = pickle.loads(open(\"LLb\",\"rb\").read())"
   ]
  },
  {
   "cell_type": "code",
   "execution_count": 93,
   "metadata": {},
   "outputs": [],
   "source": [
    "image = image.reshape((1, image.shape[0], image.shape[1],image.shape[2]))"
   ]
  },
  {
   "cell_type": "code",
   "execution_count": 99,
   "metadata": {},
   "outputs": [],
   "source": [
    "preds = model1.predict(image)"
   ]
  },
  {
   "cell_type": "code",
   "execution_count": 100,
   "metadata": {},
   "outputs": [],
   "source": [
    "i = preds.argmax(axis=1)[0]\n",
    "labell = lllb.classes_[i]"
   ]
  },
  {
   "cell_type": "code",
   "execution_count": 103,
   "metadata": {},
   "outputs": [
    {
     "data": {
      "text/plain": [
       "'panda'"
      ]
     },
     "execution_count": 103,
     "metadata": {},
     "output_type": "execute_result"
    }
   ],
   "source": [
    "labell"
   ]
  },
  {
   "cell_type": "code",
   "execution_count": null,
   "metadata": {},
   "outputs": [],
   "source": []
  }
 ],
 "metadata": {
  "kernelspec": {
   "display_name": "Python 3",
   "language": "python",
   "name": "python3"
  },
  "language_info": {
   "codemirror_mode": {
    "name": "ipython",
    "version": 3
   },
   "file_extension": ".py",
   "mimetype": "text/x-python",
   "name": "python",
   "nbconvert_exporter": "python",
   "pygments_lexer": "ipython3",
   "version": "3.7.4"
  }
 },
 "nbformat": 4,
 "nbformat_minor": 2
}
