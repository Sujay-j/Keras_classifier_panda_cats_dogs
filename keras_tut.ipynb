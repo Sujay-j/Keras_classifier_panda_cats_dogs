{
 "cells": [
  {
   "cell_type": "code",
   "execution_count": 1,
   "metadata": {},
   "outputs": [
    {
     "name": "stdout",
     "output_type": "stream",
     "text": [
      "Requirement already satisfied: imutils in c:\\users\\sujay j\\anaconda3\\lib\\site-packages (0.5.3)\n"
     ]
    }
   ],
   "source": [
    "!pip install imutils"
   ]
  },
  {
   "cell_type": "code",
   "execution_count": 2,
   "metadata": {},
   "outputs": [],
   "source": [
    "import matplotlib\n",
    "from sklearn.preprocessing import LabelBinarizer\n",
    "from sklearn.model_selection import train_test_split\n",
    "from sklearn.metrics import classification_report\n",
    "from tensorflow.keras.models import Sequential\n",
    "from tensorflow.keras.layers import Dense\n",
    "from tensorflow.keras.optimizers import SGD\n",
    "from imutils import paths\n",
    "import matplotlib.pyplot as plt\n",
    "import numpy as np\n",
    "import pandas as pd\n",
    "import argparse\n",
    "import random\n",
    "import pickle\n",
    "import cv2\n",
    "import os\n"
   ]
  },
  {
   "cell_type": "code",
   "execution_count": 3,
   "metadata": {},
   "outputs": [],
   "source": [
    "base_dir=os.path.dirname(os.path.abspath(\"keras_tut\"))\n",
    "dataset = os.path.join(base_dir,\"animals\")\n"
   ]
  },
  {
   "cell_type": "code",
   "execution_count": 4,
   "metadata": {},
   "outputs": [
    {
     "data": {
      "text/plain": [
       "'C:\\\\Users\\\\Sujay J\\\\Desktop\\\\PYImage\\\\my exersize\\\\Untitled Folder\\\\output'"
      ]
     },
     "execution_count": 4,
     "metadata": {},
     "output_type": "execute_result"
    }
   ],
   "source": [
    "Model = os.path.dirname(os.path.abspath(\"output/simple_nn.model\"))\n",
    "Model"
   ]
  },
  {
   "cell_type": "code",
   "execution_count": 5,
   "metadata": {},
   "outputs": [
    {
     "data": {
      "text/plain": [
       "'C:\\\\Users\\\\Sujay J\\\\Desktop\\\\PYImage\\\\my exersize\\\\Untitled Folder\\\\output'"
      ]
     },
     "execution_count": 5,
     "metadata": {},
     "output_type": "execute_result"
    }
   ],
   "source": [
    "Lb = os.path.dirname(os.path.abspath(\"output/simple_nn_lb.pickle\"))\n",
    "Lb\n"
   ]
  },
  {
   "cell_type": "code",
   "execution_count": 6,
   "metadata": {},
   "outputs": [],
   "source": [
    "data=[]\n",
    "labels=[]"
   ]
  },
  {
   "cell_type": "code",
   "execution_count": 7,
   "metadata": {},
   "outputs": [],
   "source": [
    "imagesPaths = sorted(list(paths.list_images(dataset)))\n",
    "random.seed(42)\n",
    "random.shuffle(imagesPaths)"
   ]
  },
  {
   "cell_type": "code",
   "execution_count": 8,
   "metadata": {},
   "outputs": [],
   "source": [
    "for imagePath in imagesPaths:\n",
    "    image  = cv2.imread(imagePath)\n",
    "    image = cv2.resize(image,(32,32)).flatten()\n",
    "    data.append(image)\n",
    "    label = imagePath.split(os.path.sep)[-2]\n",
    "    labels.append(label)"
   ]
  },
  {
   "cell_type": "code",
   "execution_count": 9,
   "metadata": {},
   "outputs": [],
   "source": [
    "data = np.array(data,dtype=\"float\")/255.0\n",
    "labels = np.array(labels)"
   ]
  },
  {
   "cell_type": "code",
   "execution_count": 10,
   "metadata": {},
   "outputs": [],
   "source": [
    "(trainX,testX,trainY,testY)= train_test_split(data,labels,test_size = 0.25,random_state = 42)"
   ]
  },
  {
   "cell_type": "code",
   "execution_count": 11,
   "metadata": {},
   "outputs": [],
   "source": [
    "lb = LabelBinarizer()\n",
    "trainY = lb.fit_transform(trainY)\n",
    "testY = lb.transform(testY)"
   ]
  },
  {
   "cell_type": "code",
   "execution_count": 12,
   "metadata": {},
   "outputs": [],
   "source": [
    "model = Sequential()\n",
    "model.add(Dense(1024,input_shape=(3072,),activation=\"sigmoid\"))\n",
    "model.add(Dense(512,activation='sigmoid'))\n",
    "model.add(Dense(len(lb.classes_),activation=\"softmax\"))"
   ]
  },
  {
   "cell_type": "code",
   "execution_count": 13,
   "metadata": {},
   "outputs": [
    {
     "name": "stdout",
     "output_type": "stream",
     "text": [
      "Model: \"sequential\"\n",
      "_________________________________________________________________\n",
      "Layer (type)                 Output Shape              Param #   \n",
      "=================================================================\n",
      "dense (Dense)                (None, 1024)              3146752   \n",
      "_________________________________________________________________\n",
      "dense_1 (Dense)              (None, 512)               524800    \n",
      "_________________________________________________________________\n",
      "dense_2 (Dense)              (None, 3)                 1539      \n",
      "=================================================================\n",
      "Total params: 3,673,091\n",
      "Trainable params: 3,673,091\n",
      "Non-trainable params: 0\n",
      "_________________________________________________________________\n"
     ]
    }
   ],
   "source": [
    "model.summary()"
   ]
  },
  {
   "cell_type": "code",
   "execution_count": 14,
   "metadata": {},
   "outputs": [],
   "source": [
    "import tensorflow as tf"
   ]
  },
  {
   "cell_type": "code",
   "execution_count": 15,
   "metadata": {},
   "outputs": [],
   "source": [
    "opt= SGD(lr=0.01)#scocasticGradientDecent\n",
    "model.compile(loss=\"categorical_crossentropy\",optimizer=opt,metrics=[\"accuracy\"])"
   ]
  },
  {
   "cell_type": "markdown",
   "metadata": {},
   "source": [
    "Categorical cross-entropy is used as the loss for nearly all networks trained to perform classification. The only exception is for 2-class classification where there are only two possible class labels. In that event you would want to swap out \"categorical_crossentropy\" for \"binary_crossentropy\" ."
   ]
  },
  {
   "cell_type": "code",
   "execution_count": 16,
   "metadata": {},
   "outputs": [
    {
     "name": "stdout",
     "output_type": "stream",
     "text": [
      "Train on 2250 samples, validate on 750 samples\n",
      "Epoch 1/100\n",
      "2250/2250 [==============================] - 2s 739us/sample - loss: 1.1073 - accuracy: 0.3676 - val_loss: 1.1117 - val_accuracy: 0.3147\n",
      "Epoch 2/100\n",
      "2250/2250 [==============================] - 1s 368us/sample - loss: 1.0962 - accuracy: 0.3613 - val_loss: 1.0723 - val_accuracy: 0.4253\n",
      "Epoch 3/100\n",
      "2250/2250 [==============================] - 1s 369us/sample - loss: 1.0709 - accuracy: 0.4053 - val_loss: 1.0588 - val_accuracy: 0.4587\n",
      "Epoch 4/100\n",
      "2250/2250 [==============================] - 1s 364us/sample - loss: 1.0562 - accuracy: 0.4231 - val_loss: 1.0307 - val_accuracy: 0.4907\n",
      "Epoch 5/100\n",
      "2250/2250 [==============================] - 1s 368us/sample - loss: 1.0428 - accuracy: 0.4640 - val_loss: 1.1721 - val_accuracy: 0.3187\n",
      "Epoch 6/100\n",
      "2250/2250 [==============================] - 1s 365us/sample - loss: 1.0287 - accuracy: 0.4720 - val_loss: 1.0761 - val_accuracy: 0.3400\n",
      "Epoch 7/100\n",
      "2250/2250 [==============================] - 1s 409us/sample - loss: 1.0099 - accuracy: 0.4911 - val_loss: 1.0813 - val_accuracy: 0.3440\n",
      "Epoch 8/100\n",
      "2250/2250 [==============================] - 1s 477us/sample - loss: 0.9995 - accuracy: 0.4871 - val_loss: 1.0170 - val_accuracy: 0.4987\n",
      "Epoch 9/100\n",
      "2250/2250 [==============================] - 1s 469us/sample - loss: 0.9780 - accuracy: 0.5147 - val_loss: 1.0051 - val_accuracy: 0.4787\n",
      "Epoch 10/100\n",
      "2250/2250 [==============================] - 1s 471us/sample - loss: 0.9665 - accuracy: 0.5151 - val_loss: 0.9415 - val_accuracy: 0.5707\n",
      "Epoch 11/100\n",
      "2250/2250 [==============================] - 1s 489us/sample - loss: 0.9573 - accuracy: 0.5049 - val_loss: 0.9469 - val_accuracy: 0.5053\n",
      "Epoch 12/100\n",
      "2250/2250 [==============================] - 1s 469us/sample - loss: 0.9474 - accuracy: 0.5071 - val_loss: 0.9227 - val_accuracy: 0.5253\n",
      "Epoch 13/100\n",
      "2250/2250 [==============================] - 1s 473us/sample - loss: 0.9375 - accuracy: 0.5129 - val_loss: 0.9206 - val_accuracy: 0.5213\n",
      "Epoch 14/100\n",
      "2250/2250 [==============================] - 1s 472us/sample - loss: 0.9200 - accuracy: 0.5262 - val_loss: 0.9118 - val_accuracy: 0.5507\n",
      "Epoch 15/100\n",
      "2250/2250 [==============================] - 1s 469us/sample - loss: 0.9151 - accuracy: 0.5218 - val_loss: 0.9348 - val_accuracy: 0.5120\n",
      "Epoch 16/100\n",
      "2250/2250 [==============================] - 1s 492us/sample - loss: 0.9070 - accuracy: 0.5244 - val_loss: 0.9055 - val_accuracy: 0.5493\n",
      "Epoch 17/100\n",
      "2250/2250 [==============================] - 1s 514us/sample - loss: 0.8969 - accuracy: 0.5427 - val_loss: 0.9171 - val_accuracy: 0.5187\n",
      "Epoch 18/100\n",
      "2250/2250 [==============================] - 1s 470us/sample - loss: 0.8954 - accuracy: 0.5289 - val_loss: 0.9060 - val_accuracy: 0.5267\n",
      "Epoch 19/100\n",
      "2250/2250 [==============================] - 1s 467us/sample - loss: 0.8891 - accuracy: 0.5489 - val_loss: 0.8673 - val_accuracy: 0.6013\n",
      "Epoch 20/100\n",
      "2250/2250 [==============================] - 1s 480us/sample - loss: 0.8838 - accuracy: 0.5382 - val_loss: 0.9361 - val_accuracy: 0.5187\n",
      "Epoch 21/100\n",
      "2250/2250 [==============================] - 1s 463us/sample - loss: 0.8778 - accuracy: 0.5471 - val_loss: 0.8581 - val_accuracy: 0.5893\n",
      "Epoch 22/100\n",
      "2250/2250 [==============================] - 1s 472us/sample - loss: 0.8738 - accuracy: 0.5471 - val_loss: 0.8685 - val_accuracy: 0.5693\n",
      "Epoch 23/100\n",
      "2250/2250 [==============================] - 1s 468us/sample - loss: 0.8666 - accuracy: 0.5520 - val_loss: 0.8789 - val_accuracy: 0.5573\n",
      "Epoch 24/100\n",
      "2250/2250 [==============================] - 1s 492us/sample - loss: 0.8619 - accuracy: 0.5542 - val_loss: 0.8561 - val_accuracy: 0.5667\n",
      "Epoch 25/100\n",
      "2250/2250 [==============================] - 1s 492us/sample - loss: 0.8586 - accuracy: 0.5524 - val_loss: 0.8509 - val_accuracy: 0.5600\n",
      "Epoch 26/100\n",
      "2250/2250 [==============================] - 1s 470us/sample - loss: 0.8569 - accuracy: 0.5462 - val_loss: 0.9104 - val_accuracy: 0.5613\n",
      "Epoch 27/100\n",
      "2250/2250 [==============================] - 1s 464us/sample - loss: 0.8533 - accuracy: 0.5649 - val_loss: 0.8452 - val_accuracy: 0.5653\n",
      "Epoch 28/100\n",
      "2250/2250 [==============================] - 1s 470us/sample - loss: 0.8491 - accuracy: 0.5471 - val_loss: 0.8506 - val_accuracy: 0.6040\n",
      "Epoch 29/100\n",
      "2250/2250 [==============================] - 1s 471us/sample - loss: 0.8494 - accuracy: 0.5578 - val_loss: 0.8741 - val_accuracy: 0.5573\n",
      "Epoch 30/100\n",
      "2250/2250 [==============================] - 1s 474us/sample - loss: 0.8497 - accuracy: 0.5547 - val_loss: 0.8451 - val_accuracy: 0.6120\n",
      "Epoch 31/100\n",
      "2250/2250 [==============================] - 1s 519us/sample - loss: 0.8390 - accuracy: 0.5631 - val_loss: 0.8536 - val_accuracy: 0.5480\n",
      "Epoch 32/100\n",
      "2250/2250 [==============================] - 1s 501us/sample - loss: 0.8400 - accuracy: 0.5720 - val_loss: 0.8866 - val_accuracy: 0.5507\n",
      "Epoch 33/100\n",
      "2250/2250 [==============================] - 1s 476us/sample - loss: 0.8424 - accuracy: 0.5591 - val_loss: 0.8800 - val_accuracy: 0.5307\n",
      "Epoch 34/100\n",
      "2250/2250 [==============================] - 1s 462us/sample - loss: 0.8332 - accuracy: 0.5738 - val_loss: 0.8482 - val_accuracy: 0.5760\n",
      "Epoch 35/100\n",
      "2250/2250 [==============================] - 1s 477us/sample - loss: 0.8339 - accuracy: 0.5782 - val_loss: 0.8301 - val_accuracy: 0.6107\n",
      "Epoch 36/100\n",
      "2250/2250 [==============================] - 1s 469us/sample - loss: 0.8316 - accuracy: 0.5716 - val_loss: 0.8527 - val_accuracy: 0.5453\n",
      "Epoch 37/100\n",
      "2250/2250 [==============================] - 1s 467us/sample - loss: 0.8304 - accuracy: 0.5724 - val_loss: 0.8363 - val_accuracy: 0.5800\n",
      "Epoch 38/100\n",
      "2250/2250 [==============================] - 1s 467us/sample - loss: 0.8289 - accuracy: 0.5707 - val_loss: 0.8609 - val_accuracy: 0.5707\n",
      "Epoch 39/100\n",
      "2250/2250 [==============================] - 1s 472us/sample - loss: 0.8279 - accuracy: 0.5644 - val_loss: 0.8363 - val_accuracy: 0.5627\n",
      "Epoch 40/100\n",
      "2250/2250 [==============================] - 1s 466us/sample - loss: 0.8241 - accuracy: 0.5787 - val_loss: 0.8371 - val_accuracy: 0.5800\n",
      "Epoch 41/100\n",
      "2250/2250 [==============================] - 1s 473us/sample - loss: 0.8178 - accuracy: 0.5787 - val_loss: 0.8342 - val_accuracy: 0.5827\n",
      "Epoch 42/100\n",
      "2250/2250 [==============================] - 1s 462us/sample - loss: 0.8195 - accuracy: 0.5893 - val_loss: 0.8428 - val_accuracy: 0.5800\n",
      "Epoch 43/100\n",
      "2250/2250 [==============================] - 1s 473us/sample - loss: 0.8143 - accuracy: 0.5840 - val_loss: 0.8229 - val_accuracy: 0.6080\n",
      "Epoch 44/100\n",
      "2250/2250 [==============================] - 1s 459us/sample - loss: 0.8161 - accuracy: 0.5827 - val_loss: 0.8454 - val_accuracy: 0.5467\n",
      "Epoch 45/100\n",
      "2250/2250 [==============================] - 1s 465us/sample - loss: 0.8150 - accuracy: 0.5902 - val_loss: 0.8299 - val_accuracy: 0.5880\n",
      "Epoch 46/100\n",
      "2250/2250 [==============================] - 1s 504us/sample - loss: 0.8107 - accuracy: 0.5836 - val_loss: 0.8551 - val_accuracy: 0.5547\n",
      "Epoch 47/100\n",
      "2250/2250 [==============================] - 1s 503us/sample - loss: 0.8076 - accuracy: 0.6027 - val_loss: 0.8758 - val_accuracy: 0.5560\n",
      "Epoch 48/100\n",
      "2250/2250 [==============================] - 1s 473us/sample - loss: 0.8079 - accuracy: 0.5884 - val_loss: 0.8206 - val_accuracy: 0.6187\n",
      "Epoch 49/100\n",
      "2250/2250 [==============================] - 1s 480us/sample - loss: 0.8071 - accuracy: 0.5884 - val_loss: 0.8247 - val_accuracy: 0.5893\n",
      "Epoch 50/100\n",
      "2250/2250 [==============================] - 1s 470us/sample - loss: 0.8072 - accuracy: 0.5840 - val_loss: 0.8762 - val_accuracy: 0.5293\n",
      "Epoch 51/100\n",
      "2250/2250 [==============================] - 1s 466us/sample - loss: 0.8059 - accuracy: 0.5844 - val_loss: 0.8199 - val_accuracy: 0.6120\n",
      "Epoch 52/100\n",
      "2250/2250 [==============================] - 1s 474us/sample - loss: 0.8085 - accuracy: 0.5929 - val_loss: 0.8283 - val_accuracy: 0.6040\n",
      "Epoch 53/100\n",
      "2250/2250 [==============================] - 1s 473us/sample - loss: 0.8036 - accuracy: 0.5862 - val_loss: 0.8483 - val_accuracy: 0.5533\n",
      "Epoch 54/100\n",
      "2250/2250 [==============================] - 1s 475us/sample - loss: 0.8025 - accuracy: 0.6084 - val_loss: 0.8169 - val_accuracy: 0.6133\n",
      "Epoch 55/100\n"
     ]
    },
    {
     "name": "stdout",
     "output_type": "stream",
     "text": [
      "2250/2250 [==============================] - 1s 469us/sample - loss: 0.8013 - accuracy: 0.5871 - val_loss: 0.8468 - val_accuracy: 0.5693\n",
      "Epoch 56/100\n",
      "2250/2250 [==============================] - 1s 474us/sample - loss: 0.7984 - accuracy: 0.5982 - val_loss: 0.9025 - val_accuracy: 0.5307\n",
      "Epoch 57/100\n",
      "2250/2250 [==============================] - 1s 461us/sample - loss: 0.7999 - accuracy: 0.5867 - val_loss: 0.8555 - val_accuracy: 0.5440\n",
      "Epoch 58/100\n",
      "2250/2250 [==============================] - 1s 469us/sample - loss: 0.7938 - accuracy: 0.6044 - val_loss: 0.8713 - val_accuracy: 0.5747\n",
      "Epoch 59/100\n",
      "2250/2250 [==============================] - 1s 461us/sample - loss: 0.7991 - accuracy: 0.5911 - val_loss: 0.8438 - val_accuracy: 0.5600\n",
      "Epoch 60/100\n",
      "2250/2250 [==============================] - 1s 475us/sample - loss: 0.7950 - accuracy: 0.5987 - val_loss: 0.8259 - val_accuracy: 0.5693\n",
      "Epoch 61/100\n",
      "2250/2250 [==============================] - 1s 503us/sample - loss: 0.7912 - accuracy: 0.5996 - val_loss: 0.8534 - val_accuracy: 0.5587\n",
      "Epoch 62/100\n",
      "2250/2250 [==============================] - 1s 497us/sample - loss: 0.7893 - accuracy: 0.5902 - val_loss: 0.8503 - val_accuracy: 0.5707\n",
      "Epoch 63/100\n",
      "2250/2250 [==============================] - 1s 471us/sample - loss: 0.7930 - accuracy: 0.6040 - val_loss: 0.8383 - val_accuracy: 0.5893\n",
      "Epoch 64/100\n",
      "2250/2250 [==============================] - 1s 465us/sample - loss: 0.7891 - accuracy: 0.6022 - val_loss: 0.9069 - val_accuracy: 0.5733\n",
      "Epoch 65/100\n",
      "2250/2250 [==============================] - 1s 462us/sample - loss: 0.7901 - accuracy: 0.5929 - val_loss: 0.8463 - val_accuracy: 0.5893\n",
      "Epoch 66/100\n",
      "2250/2250 [==============================] - 1s 465us/sample - loss: 0.7848 - accuracy: 0.5987 - val_loss: 0.8198 - val_accuracy: 0.5893\n",
      "Epoch 67/100\n",
      "2250/2250 [==============================] - 1s 470us/sample - loss: 0.7857 - accuracy: 0.6040 - val_loss: 0.8234 - val_accuracy: 0.5733\n",
      "Epoch 68/100\n",
      "2250/2250 [==============================] - 1s 480us/sample - loss: 0.7879 - accuracy: 0.5978 - val_loss: 0.8184 - val_accuracy: 0.5947\n",
      "Epoch 69/100\n",
      "2250/2250 [==============================] - 1s 469us/sample - loss: 0.7802 - accuracy: 0.6053 - val_loss: 0.8595 - val_accuracy: 0.5440\n",
      "Epoch 70/100\n",
      "2250/2250 [==============================] - 1s 470us/sample - loss: 0.7820 - accuracy: 0.6000 - val_loss: 0.8444 - val_accuracy: 0.5880\n",
      "Epoch 71/100\n",
      "2250/2250 [==============================] - 1s 473us/sample - loss: 0.7759 - accuracy: 0.6222 - val_loss: 0.8245 - val_accuracy: 0.5987\n",
      "Epoch 72/100\n",
      "2250/2250 [==============================] - 1s 466us/sample - loss: 0.7772 - accuracy: 0.6111 - val_loss: 0.8636 - val_accuracy: 0.5573\n",
      "Epoch 73/100\n",
      "2250/2250 [==============================] - 1s 473us/sample - loss: 0.7756 - accuracy: 0.6067 - val_loss: 0.8226 - val_accuracy: 0.5867\n",
      "Epoch 74/100\n",
      "2250/2250 [==============================] - 1s 485us/sample - loss: 0.7750 - accuracy: 0.6120 - val_loss: 0.9309 - val_accuracy: 0.5160\n",
      "Epoch 75/100\n",
      "2250/2250 [==============================] - 1s 464us/sample - loss: 0.7753 - accuracy: 0.6027 - val_loss: 0.8222 - val_accuracy: 0.5907\n",
      "Epoch 76/100\n",
      "2250/2250 [==============================] - 1s 511us/sample - loss: 0.7716 - accuracy: 0.6213 - val_loss: 0.8355 - val_accuracy: 0.5693\n",
      "Epoch 77/100\n",
      "2250/2250 [==============================] - 1s 491us/sample - loss: 0.7710 - accuracy: 0.6204 - val_loss: 0.8143 - val_accuracy: 0.5987\n",
      "Epoch 78/100\n",
      "2250/2250 [==============================] - 1s 475us/sample - loss: 0.7696 - accuracy: 0.6191 - val_loss: 0.9607 - val_accuracy: 0.5147\n",
      "Epoch 79/100\n",
      "2250/2250 [==============================] - 1s 468us/sample - loss: 0.7712 - accuracy: 0.6084 - val_loss: 0.8287 - val_accuracy: 0.6000\n",
      "Epoch 80/100\n",
      "2250/2250 [==============================] - 1s 463us/sample - loss: 0.7698 - accuracy: 0.6116 - val_loss: 0.8170 - val_accuracy: 0.6000\n",
      "Epoch 81/100\n",
      "2250/2250 [==============================] - 1s 467us/sample - loss: 0.7674 - accuracy: 0.6204 - val_loss: 0.8152 - val_accuracy: 0.5947\n",
      "Epoch 82/100\n",
      "2250/2250 [==============================] - 1s 390us/sample - loss: 0.7655 - accuracy: 0.6196 - val_loss: 0.8300 - val_accuracy: 0.5987\n",
      "Epoch 83/100\n",
      "2250/2250 [==============================] - 1s 392us/sample - loss: 0.7673 - accuracy: 0.6231 - val_loss: 0.8170 - val_accuracy: 0.6240\n",
      "Epoch 84/100\n",
      "2250/2250 [==============================] - 1s 401us/sample - loss: 0.7717 - accuracy: 0.6031 - val_loss: 0.8725 - val_accuracy: 0.5493\n",
      "Epoch 85/100\n",
      "2250/2250 [==============================] - 1s 396us/sample - loss: 0.7632 - accuracy: 0.6187 - val_loss: 0.8171 - val_accuracy: 0.6040\n",
      "Epoch 86/100\n",
      "2250/2250 [==============================] - 1s 392us/sample - loss: 0.7603 - accuracy: 0.6222 - val_loss: 0.8403 - val_accuracy: 0.5773\n",
      "Epoch 87/100\n",
      "2250/2250 [==============================] - 1s 390us/sample - loss: 0.7594 - accuracy: 0.6142 - val_loss: 0.8169 - val_accuracy: 0.5987\n",
      "Epoch 88/100\n",
      "2250/2250 [==============================] - 1s 385us/sample - loss: 0.7589 - accuracy: 0.6298 - val_loss: 0.8348 - val_accuracy: 0.5800\n",
      "Epoch 89/100\n",
      "2250/2250 [==============================] - 1s 393us/sample - loss: 0.7593 - accuracy: 0.6271 - val_loss: 0.8216 - val_accuracy: 0.5947\n",
      "Epoch 90/100\n",
      "2250/2250 [==============================] - 1s 389us/sample - loss: 0.7555 - accuracy: 0.6267 - val_loss: 0.8401 - val_accuracy: 0.5707\n",
      "Epoch 91/100\n",
      "2250/2250 [==============================] - 1s 394us/sample - loss: 0.7597 - accuracy: 0.6236 - val_loss: 0.8194 - val_accuracy: 0.6107\n",
      "Epoch 92/100\n",
      "2250/2250 [==============================] - 1s 399us/sample - loss: 0.7523 - accuracy: 0.6236 - val_loss: 0.8174 - val_accuracy: 0.6040\n",
      "Epoch 93/100\n",
      "2250/2250 [==============================] - 1s 411us/sample - loss: 0.7498 - accuracy: 0.6320 - val_loss: 0.8357 - val_accuracy: 0.5920\n",
      "Epoch 94/100\n",
      "2250/2250 [==============================] - 1s 393us/sample - loss: 0.7559 - accuracy: 0.6218 - val_loss: 0.8615 - val_accuracy: 0.5493\n",
      "Epoch 95/100\n",
      "2250/2250 [==============================] - 1s 380us/sample - loss: 0.7481 - accuracy: 0.6338 - val_loss: 0.8416 - val_accuracy: 0.6013\n",
      "Epoch 96/100\n",
      "2250/2250 [==============================] - 1s 385us/sample - loss: 0.7512 - accuracy: 0.6213 - val_loss: 0.8553 - val_accuracy: 0.5747\n",
      "Epoch 97/100\n",
      "2250/2250 [==============================] - 1s 392us/sample - loss: 0.7490 - accuracy: 0.6391 - val_loss: 0.8657 - val_accuracy: 0.5853\n",
      "Epoch 98/100\n",
      "2250/2250 [==============================] - 1s 388us/sample - loss: 0.7483 - accuracy: 0.6391 - val_loss: 0.8429 - val_accuracy: 0.5800\n",
      "Epoch 99/100\n",
      "2250/2250 [==============================] - 1s 384us/sample - loss: 0.7440 - accuracy: 0.6342 - val_loss: 1.0239 - val_accuracy: 0.4880\n",
      "Epoch 100/100\n",
      "2250/2250 [==============================] - 1s 381us/sample - loss: 0.7440 - accuracy: 0.6409 - val_loss: 0.8312 - val_accuracy: 0.5960\n"
     ]
    }
   ],
   "source": [
    "H=model.fit(x= trainX,y=trainY,validation_data=(testX,testY),epochs=100,batch_size=32)"
   ]
  },
  {
   "cell_type": "code",
   "execution_count": 17,
   "metadata": {},
   "outputs": [],
   "source": [
    "predictions = model.predict(x=testX,batch_size=32)"
   ]
  },
  {
   "cell_type": "code",
   "execution_count": 18,
   "metadata": {},
   "outputs": [
    {
     "name": "stdout",
     "output_type": "stream",
     "text": [
      "              precision    recall  f1-score   support\n",
      "\n",
      "        cats       0.51      0.73      0.60       236\n",
      "        dogs       0.53      0.15      0.24       236\n",
      "       panda       0.69      0.86      0.77       278\n",
      "\n",
      "    accuracy                           0.60       750\n",
      "   macro avg       0.58      0.58      0.53       750\n",
      "weighted avg       0.58      0.60      0.55       750\n",
      "\n"
     ]
    }
   ],
   "source": [
    "print(classification_report(testY.argmax(axis = 1),predictions.argmax(axis=1),target_names=lb.classes_))"
   ]
  },
  {
   "cell_type": "code",
   "execution_count": 20,
   "metadata": {},
   "outputs": [],
   "source": [
    "epochs = 100"
   ]
  },
  {
   "cell_type": "code",
   "execution_count": 21,
   "metadata": {},
   "outputs": [
    {
     "data": {
      "image/png": "[encoded data removed]",
      "text/plain": [
       "<Figure size 432x288 with 1 Axes>"
      ]
     },
     "metadata": {},
     "output_type": "display_data"
    }
   ],
   "source": [
    "N = np.arange(0,epochs)\n",
    "plt.style.use(\"ggplot\")\n",
    "plt.figure()\n",
    "plt.plot(N,H.history[\"loss\"],label=\"train_loss\")\n",
    "plt.plot(N,H.history[\"val_loss\"],label=\"val_loss\")\n",
    "plt.plot(N,H.history[\"accuracy\"],label=\"train_acc\")\n",
    "plt.plot(N,H.history[\"val_accuracy\"],label=\"val_acc\")\n",
    "plt.title(\"Training Loss and accuracy\")\n",
    "plt.xlabel(\"epoch\")\n",
    "plt.ylabel(\"Loss/Accuracy\")\n",
    "plt.legend()\n",
    "plt.savefig(Lb)"
   ]
  },
  {
   "cell_type": "code",
   "execution_count": null,
   "metadata": {},
   "outputs": [],
   "source": []
  },
  {
   "cell_type": "code",
   "execution_count": 22,
   "metadata": {},
   "outputs": [],
   "source": [
    "model.save(\"Model\",save_format=\"h5\")"
   ]
  },
  {
   "cell_type": "code",
   "execution_count": 23,
   "metadata": {},
   "outputs": [],
   "source": [
    "f=open(\"Lb\",\"wb\")\n",
    "f.write(pickle.dumps(lb))\n",
    "f.close()"
   ]
  },
  {
   "cell_type": "code",
   "execution_count": 39,
   "metadata": {},
   "outputs": [],
   "source": [
    "from tensorflow.keras.models import load_model\n"
   ]
  },
  {
   "cell_type": "code",
   "execution_count": 25,
   "metadata": {},
   "outputs": [
    {
     "data": {
      "text/plain": [
       "'C:\\\\Users\\\\Sujay J\\\\Desktop\\\\PYImage\\\\my exersize\\\\Untitled Folder\\\\images'"
      ]
     },
     "execution_count": 25,
     "metadata": {},
     "output_type": "execute_result"
    }
   ],
   "source": [
    "imagee = os.path.join(base_dir,\"images\")\n",
    "imagee"
   ]
  },
  {
   "cell_type": "code",
   "execution_count": 59,
   "metadata": {},
   "outputs": [],
   "source": [
    "width = 32\n",
    "height = 32\n",
    "flatten = 1"
   ]
  },
  {
   "cell_type": "code",
   "execution_count": 116,
   "metadata": {},
   "outputs": [],
   "source": [
    "img= cv2.imread(\"cat.jpg\")"
   ]
  },
  {
   "cell_type": "code",
   "execution_count": 117,
   "metadata": {},
   "outputs": [],
   "source": [
    "output = img.copy()"
   ]
  },
  {
   "cell_type": "code",
   "execution_count": 118,
   "metadata": {},
   "outputs": [],
   "source": [
    "img= cv2.resize(img,(width,height))"
   ]
  },
  {
   "cell_type": "code",
   "execution_count": 119,
   "metadata": {},
   "outputs": [],
   "source": [
    "img=img.astype(\"float\")/255.0"
   ]
  },
  {
   "cell_type": "code",
   "execution_count": 120,
   "metadata": {},
   "outputs": [
    {
     "data": {
      "text/plain": [
       "(32, 32, 3)"
      ]
     },
     "execution_count": 120,
     "metadata": {},
     "output_type": "execute_result"
    }
   ],
   "source": [
    "img.shape"
   ]
  },
  {
   "cell_type": "code",
   "execution_count": 121,
   "metadata": {},
   "outputs": [],
   "source": [
    "if flatten > 0:\n",
    "    img = img.flatten()\n",
    "    img=img.reshape((1,img.shape[0]))\n",
    "else:\n",
    "    img=img.reshape((1,img.shape[0],img.shape[1],img.shape[2]))"
   ]
  },
  {
   "cell_type": "code",
   "execution_count": 122,
   "metadata": {},
   "outputs": [],
   "source": [
    "model1=load_model(\"my_model.h5\")"
   ]
  },
  {
   "cell_type": "code",
   "execution_count": 123,
   "metadata": {},
   "outputs": [],
   "source": [
    "lb1=pickle.loads(open(\"Lb\",\"rb\").read())"
   ]
  },
  {
   "cell_type": "code",
   "execution_count": 124,
   "metadata": {},
   "outputs": [],
   "source": [
    "preds = model1.predict(img)"
   ]
  },
  {
   "cell_type": "code",
   "execution_count": 125,
   "metadata": {},
   "outputs": [],
   "source": [
    "i=preds.argmax(axis = 1)[0]\n",
    "label=lb1.classes_[i]"
   ]
  },
  {
   "cell_type": "code",
   "execution_count": 126,
   "metadata": {},
   "outputs": [
    {
     "data": {
      "text/plain": [
       "0.41648754"
      ]
     },
     "execution_count": 126,
     "metadata": {},
     "output_type": "execute_result"
    }
   ],
   "source": [
    "preds[0][i]"
   ]
  },
  {
   "cell_type": "code",
   "execution_count": 127,
   "metadata": {},
   "outputs": [
    {
     "data": {
      "text/plain": [
       "'cats'"
      ]
     },
     "execution_count": 127,
     "metadata": {},
     "output_type": "execute_result"
    }
   ],
   "source": [
    "label"
   ]
  },
  {
   "cell_type": "code",
   "execution_count": null,
   "metadata": {},
   "outputs": [],
   "source": []
  },
  {
   "cell_type": "code",
   "execution_count": null,
   "metadata": {},
   "outputs": [],
   "source": []
  }
 ],
 "metadata": {
  "kernelspec": {
   "display_name": "Python 3",
   "language": "python",
   "name": "python3"
  },
  "language_info": {
   "codemirror_mode": {
    "name": "ipython",
    "version": 3
   },
   "file_extension": ".py",
   "mimetype": "text/x-python",
   "name": "python",
   "nbconvert_exporter": "python",
   "pygments_lexer": "ipython3",
   "version": "3.7.4"
  }
 },
 "nbformat": 4,
 "nbformat_minor": 2
}
